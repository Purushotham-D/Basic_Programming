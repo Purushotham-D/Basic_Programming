{
  "nbformat": 4,
  "nbformat_minor": 0,
  "metadata": {
    "colab": {
      "name": "Numbers_Programming.ipynb",
      "provenance": [],
      "collapsed_sections": [],
      "authorship_tag": "ABX9TyNh4HdLL/rqRiJYTE9WD7Wt",
      "include_colab_link": true
    },
    "kernelspec": {
      "name": "python3",
      "display_name": "Python 3"
    },
    "language_info": {
      "name": "python"
    }
  },
  "cells": [
    {
      "cell_type": "markdown",
      "metadata": {
        "id": "view-in-github",
        "colab_type": "text"
      },
      "source": [
        "<a href=\"https://colab.research.google.com/github/Puruboi/Numbers_Programming/blob/main/Numbers_Programming.ipynb\" target=\"_parent\"><img src=\"https://colab.research.google.com/assets/colab-badge.svg\" alt=\"Open In Colab\"/></a>"
      ]
    },
    {
      "cell_type": "code",
      "metadata": {
        "colab": {
          "base_uri": "https://localhost:8080/"
        },
        "id": "zOxwZMjkCaTX",
        "outputId": "b4d8c5de-0fd3-4563-dc32-894154a247b4"
      },
      "source": [
        "#sum n natural nos \n",
        "def sum_natural_nos(n):\n",
        "  out=1\n",
        "  for i in range(2,n+1):\n",
        "    out+=i\n",
        "  return out\n",
        "\n",
        "sum_natural_nos(5)\n"
      ],
      "execution_count": null,
      "outputs": [
        {
          "output_type": "execute_result",
          "data": {
            "text/plain": [
              "15"
            ]
          },
          "metadata": {
            "tags": []
          },
          "execution_count": 2
        }
      ]
    },
    {
      "cell_type": "code",
      "metadata": {
        "colab": {
          "base_uri": "https://localhost:8080/"
        },
        "id": "9QeYrn-JDMPR",
        "outputId": "69daf63d-7163-4bc7-bb57-aaad8fff4f99"
      },
      "source": [
        "# count the no of digits in a given no \n",
        "\n",
        "# using str operations\n",
        "def count_digits_1(n):\n",
        "  n=str(n)\n",
        "  c=0\n",
        "  for i in n:\n",
        "    c+=1\n",
        "  return c\n",
        "\n",
        "# using numerical operations \n",
        "def count_digits_2(n):\n",
        "  c=0\n",
        "  while n!=0:\n",
        "    c+=1\n",
        "    last=n%10\n",
        "    n=n//10\n",
        "  return c\n",
        "\n",
        "print(count_digits_1(2334))\n",
        "print(count_digits_2(234))"
      ],
      "execution_count": null,
      "outputs": [
        {
          "output_type": "stream",
          "text": [
            "4\n",
            "3\n"
          ],
          "name": "stdout"
        }
      ]
    },
    {
      "cell_type": "code",
      "metadata": {
        "colab": {
          "base_uri": "https://localhost:8080/"
        },
        "id": "2pQJh66jEE3c",
        "outputId": "fd8f676e-4b43-4e0a-e58a-66e04ee24377"
      },
      "source": [
        "# sum all digits of the number\n",
        "def sum_digits(n):\n",
        "  c=0\n",
        "  while n!=0:\n",
        "    last=n%10\n",
        "    c+=last\n",
        "    n=n//10\n",
        "  return c\n",
        "\n",
        "sum_digits(1124)"
      ],
      "execution_count": null,
      "outputs": [
        {
          "output_type": "execute_result",
          "data": {
            "text/plain": [
              "8"
            ]
          },
          "metadata": {
            "tags": []
          },
          "execution_count": 12
        }
      ]
    },
    {
      "cell_type": "code",
      "metadata": {
        "colab": {
          "base_uri": "https://localhost:8080/"
        },
        "id": "tTwxsczBFRN3",
        "outputId": "30be5413-9287-460b-9480-5b31a785f0ee"
      },
      "source": [
        "# program to reverse a given no\n",
        "\n",
        "def reverse_no(n):\n",
        "  rev=0\n",
        "  while n!=0:\n",
        "    last=n%10\n",
        "    rev=rev*10+last\n",
        "    n=n//10\n",
        "  return rev\n",
        "\n",
        "reverse_no(234)"
      ],
      "execution_count": null,
      "outputs": [
        {
          "output_type": "execute_result",
          "data": {
            "text/plain": [
              "432"
            ]
          },
          "metadata": {
            "tags": []
          },
          "execution_count": 15
        }
      ]
    },
    {
      "cell_type": "code",
      "metadata": {
        "colab": {
          "base_uri": "https://localhost:8080/"
        },
        "id": "fi010F-FGbnX",
        "outputId": "f1d47621-6497-4f7c-e027-0e9772f39ce9"
      },
      "source": [
        "# Palindrome Program \n",
        "\n",
        "def palindrome(n):\n",
        "  temp=n\n",
        "  rev=0\n",
        "  while temp!=0:\n",
        "    last=temp%10\n",
        "    rev=rev*10+last\n",
        "    temp=temp//10\n",
        "  if rev==n:\n",
        "    return 'Palindrome'\n",
        "  else:\n",
        "    return 'Not Palindrome'\n",
        "\n",
        "print(palindrome(242))\n",
        "print(palindrome(2334))\n"
      ],
      "execution_count": null,
      "outputs": [
        {
          "output_type": "stream",
          "text": [
            "Palindrome\n",
            "Not Palindrome\n"
          ],
          "name": "stdout"
        }
      ]
    },
    {
      "cell_type": "code",
      "metadata": {
        "colab": {
          "base_uri": "https://localhost:8080/"
        },
        "id": "3pjeIU3fHRm-",
        "outputId": "d99c9cbf-da95-4a5c-a604-86657ef1fd39"
      },
      "source": [
        "# print all palindromes in the given range\n",
        "def palindrome_2(n):\n",
        "  temp=n\n",
        "  rev=0\n",
        "  while temp!=0:\n",
        "    last=temp%10\n",
        "    rev=rev*10+last\n",
        "    temp=temp//10\n",
        "  if rev==n:\n",
        "    return n\n",
        "\n",
        "r=int(input('range: '))\n",
        "l=[]\n",
        "for i in range(1,r):\n",
        "  d=palindrome_2(i)\n",
        "  if d!=None:\n",
        "    l.append(d)\n",
        "\n",
        "print('All palindromes in given range: {} and total palindromes = {}.'.format(l,len(l)))\n",
        "\n",
        "\n"
      ],
      "execution_count": null,
      "outputs": [
        {
          "output_type": "stream",
          "text": [
            "range: 100000\n",
            "All palindromes in given range: [1, 2, 3, 4, 5, 6, 7, 8, 9, 11, 22, 33, 44, 55, 66, 77, 88, 99, 101, 111, 121, 131, 141, 151, 161, 171, 181, 191, 202, 212, 222, 232, 242, 252, 262, 272, 282, 292, 303, 313, 323, 333, 343, 353, 363, 373, 383, 393, 404, 414, 424, 434, 444, 454, 464, 474, 484, 494, 505, 515, 525, 535, 545, 555, 565, 575, 585, 595, 606, 616, 626, 636, 646, 656, 666, 676, 686, 696, 707, 717, 727, 737, 747, 757, 767, 777, 787, 797, 808, 818, 828, 838, 848, 858, 868, 878, 888, 898, 909, 919, 929, 939, 949, 959, 969, 979, 989, 999, 1001, 1111, 1221, 1331, 1441, 1551, 1661, 1771, 1881, 1991, 2002, 2112, 2222, 2332, 2442, 2552, 2662, 2772, 2882, 2992, 3003, 3113, 3223, 3333, 3443, 3553, 3663, 3773, 3883, 3993, 4004, 4114, 4224, 4334, 4444, 4554, 4664, 4774, 4884, 4994, 5005, 5115, 5225, 5335, 5445, 5555, 5665, 5775, 5885, 5995, 6006, 6116, 6226, 6336, 6446, 6556, 6666, 6776, 6886, 6996, 7007, 7117, 7227, 7337, 7447, 7557, 7667, 7777, 7887, 7997, 8008, 8118, 8228, 8338, 8448, 8558, 8668, 8778, 8888, 8998, 9009, 9119, 9229, 9339, 9449, 9559, 9669, 9779, 9889, 9999, 10001, 10101, 10201, 10301, 10401, 10501, 10601, 10701, 10801, 10901, 11011, 11111, 11211, 11311, 11411, 11511, 11611, 11711, 11811, 11911, 12021, 12121, 12221, 12321, 12421, 12521, 12621, 12721, 12821, 12921, 13031, 13131, 13231, 13331, 13431, 13531, 13631, 13731, 13831, 13931, 14041, 14141, 14241, 14341, 14441, 14541, 14641, 14741, 14841, 14941, 15051, 15151, 15251, 15351, 15451, 15551, 15651, 15751, 15851, 15951, 16061, 16161, 16261, 16361, 16461, 16561, 16661, 16761, 16861, 16961, 17071, 17171, 17271, 17371, 17471, 17571, 17671, 17771, 17871, 17971, 18081, 18181, 18281, 18381, 18481, 18581, 18681, 18781, 18881, 18981, 19091, 19191, 19291, 19391, 19491, 19591, 19691, 19791, 19891, 19991, 20002, 20102, 20202, 20302, 20402, 20502, 20602, 20702, 20802, 20902, 21012, 21112, 21212, 21312, 21412, 21512, 21612, 21712, 21812, 21912, 22022, 22122, 22222, 22322, 22422, 22522, 22622, 22722, 22822, 22922, 23032, 23132, 23232, 23332, 23432, 23532, 23632, 23732, 23832, 23932, 24042, 24142, 24242, 24342, 24442, 24542, 24642, 24742, 24842, 24942, 25052, 25152, 25252, 25352, 25452, 25552, 25652, 25752, 25852, 25952, 26062, 26162, 26262, 26362, 26462, 26562, 26662, 26762, 26862, 26962, 27072, 27172, 27272, 27372, 27472, 27572, 27672, 27772, 27872, 27972, 28082, 28182, 28282, 28382, 28482, 28582, 28682, 28782, 28882, 28982, 29092, 29192, 29292, 29392, 29492, 29592, 29692, 29792, 29892, 29992, 30003, 30103, 30203, 30303, 30403, 30503, 30603, 30703, 30803, 30903, 31013, 31113, 31213, 31313, 31413, 31513, 31613, 31713, 31813, 31913, 32023, 32123, 32223, 32323, 32423, 32523, 32623, 32723, 32823, 32923, 33033, 33133, 33233, 33333, 33433, 33533, 33633, 33733, 33833, 33933, 34043, 34143, 34243, 34343, 34443, 34543, 34643, 34743, 34843, 34943, 35053, 35153, 35253, 35353, 35453, 35553, 35653, 35753, 35853, 35953, 36063, 36163, 36263, 36363, 36463, 36563, 36663, 36763, 36863, 36963, 37073, 37173, 37273, 37373, 37473, 37573, 37673, 37773, 37873, 37973, 38083, 38183, 38283, 38383, 38483, 38583, 38683, 38783, 38883, 38983, 39093, 39193, 39293, 39393, 39493, 39593, 39693, 39793, 39893, 39993, 40004, 40104, 40204, 40304, 40404, 40504, 40604, 40704, 40804, 40904, 41014, 41114, 41214, 41314, 41414, 41514, 41614, 41714, 41814, 41914, 42024, 42124, 42224, 42324, 42424, 42524, 42624, 42724, 42824, 42924, 43034, 43134, 43234, 43334, 43434, 43534, 43634, 43734, 43834, 43934, 44044, 44144, 44244, 44344, 44444, 44544, 44644, 44744, 44844, 44944, 45054, 45154, 45254, 45354, 45454, 45554, 45654, 45754, 45854, 45954, 46064, 46164, 46264, 46364, 46464, 46564, 46664, 46764, 46864, 46964, 47074, 47174, 47274, 47374, 47474, 47574, 47674, 47774, 47874, 47974, 48084, 48184, 48284, 48384, 48484, 48584, 48684, 48784, 48884, 48984, 49094, 49194, 49294, 49394, 49494, 49594, 49694, 49794, 49894, 49994, 50005, 50105, 50205, 50305, 50405, 50505, 50605, 50705, 50805, 50905, 51015, 51115, 51215, 51315, 51415, 51515, 51615, 51715, 51815, 51915, 52025, 52125, 52225, 52325, 52425, 52525, 52625, 52725, 52825, 52925, 53035, 53135, 53235, 53335, 53435, 53535, 53635, 53735, 53835, 53935, 54045, 54145, 54245, 54345, 54445, 54545, 54645, 54745, 54845, 54945, 55055, 55155, 55255, 55355, 55455, 55555, 55655, 55755, 55855, 55955, 56065, 56165, 56265, 56365, 56465, 56565, 56665, 56765, 56865, 56965, 57075, 57175, 57275, 57375, 57475, 57575, 57675, 57775, 57875, 57975, 58085, 58185, 58285, 58385, 58485, 58585, 58685, 58785, 58885, 58985, 59095, 59195, 59295, 59395, 59495, 59595, 59695, 59795, 59895, 59995, 60006, 60106, 60206, 60306, 60406, 60506, 60606, 60706, 60806, 60906, 61016, 61116, 61216, 61316, 61416, 61516, 61616, 61716, 61816, 61916, 62026, 62126, 62226, 62326, 62426, 62526, 62626, 62726, 62826, 62926, 63036, 63136, 63236, 63336, 63436, 63536, 63636, 63736, 63836, 63936, 64046, 64146, 64246, 64346, 64446, 64546, 64646, 64746, 64846, 64946, 65056, 65156, 65256, 65356, 65456, 65556, 65656, 65756, 65856, 65956, 66066, 66166, 66266, 66366, 66466, 66566, 66666, 66766, 66866, 66966, 67076, 67176, 67276, 67376, 67476, 67576, 67676, 67776, 67876, 67976, 68086, 68186, 68286, 68386, 68486, 68586, 68686, 68786, 68886, 68986, 69096, 69196, 69296, 69396, 69496, 69596, 69696, 69796, 69896, 69996, 70007, 70107, 70207, 70307, 70407, 70507, 70607, 70707, 70807, 70907, 71017, 71117, 71217, 71317, 71417, 71517, 71617, 71717, 71817, 71917, 72027, 72127, 72227, 72327, 72427, 72527, 72627, 72727, 72827, 72927, 73037, 73137, 73237, 73337, 73437, 73537, 73637, 73737, 73837, 73937, 74047, 74147, 74247, 74347, 74447, 74547, 74647, 74747, 74847, 74947, 75057, 75157, 75257, 75357, 75457, 75557, 75657, 75757, 75857, 75957, 76067, 76167, 76267, 76367, 76467, 76567, 76667, 76767, 76867, 76967, 77077, 77177, 77277, 77377, 77477, 77577, 77677, 77777, 77877, 77977, 78087, 78187, 78287, 78387, 78487, 78587, 78687, 78787, 78887, 78987, 79097, 79197, 79297, 79397, 79497, 79597, 79697, 79797, 79897, 79997, 80008, 80108, 80208, 80308, 80408, 80508, 80608, 80708, 80808, 80908, 81018, 81118, 81218, 81318, 81418, 81518, 81618, 81718, 81818, 81918, 82028, 82128, 82228, 82328, 82428, 82528, 82628, 82728, 82828, 82928, 83038, 83138, 83238, 83338, 83438, 83538, 83638, 83738, 83838, 83938, 84048, 84148, 84248, 84348, 84448, 84548, 84648, 84748, 84848, 84948, 85058, 85158, 85258, 85358, 85458, 85558, 85658, 85758, 85858, 85958, 86068, 86168, 86268, 86368, 86468, 86568, 86668, 86768, 86868, 86968, 87078, 87178, 87278, 87378, 87478, 87578, 87678, 87778, 87878, 87978, 88088, 88188, 88288, 88388, 88488, 88588, 88688, 88788, 88888, 88988, 89098, 89198, 89298, 89398, 89498, 89598, 89698, 89798, 89898, 89998, 90009, 90109, 90209, 90309, 90409, 90509, 90609, 90709, 90809, 90909, 91019, 91119, 91219, 91319, 91419, 91519, 91619, 91719, 91819, 91919, 92029, 92129, 92229, 92329, 92429, 92529, 92629, 92729, 92829, 92929, 93039, 93139, 93239, 93339, 93439, 93539, 93639, 93739, 93839, 93939, 94049, 94149, 94249, 94349, 94449, 94549, 94649, 94749, 94849, 94949, 95059, 95159, 95259, 95359, 95459, 95559, 95659, 95759, 95859, 95959, 96069, 96169, 96269, 96369, 96469, 96569, 96669, 96769, 96869, 96969, 97079, 97179, 97279, 97379, 97479, 97579, 97679, 97779, 97879, 97979, 98089, 98189, 98289, 98389, 98489, 98589, 98689, 98789, 98889, 98989, 99099, 99199, 99299, 99399, 99499, 99599, 99699, 99799, 99899, 99999] and total palindromes = 1098.\n"
          ],
          "name": "stdout"
        }
      ]
    },
    {
      "cell_type": "code",
      "metadata": {
        "id": "KKn7CoLlITZ1",
        "colab": {
          "base_uri": "https://localhost:8080/"
        },
        "outputId": "f6be475c-6840-465c-fc12-e0c603197d78"
      },
      "source": [
        "# Program to find HCF or GCD\n",
        "\n",
        "def HCF_GCD(x,y):\n",
        "  smaller=x if x<y else y\n",
        "  for i in range(1,smaller+1):\n",
        "    if((x%i==0) and (y%i==0)):\n",
        "      hcf=i\n",
        "  return hcf\n",
        "print(HCF_GCD(6,2))\n",
        "print(HCF_GCD(6,9))"
      ],
      "execution_count": 2,
      "outputs": [
        {
          "output_type": "stream",
          "text": [
            "2\n",
            "3\n"
          ],
          "name": "stdout"
        }
      ]
    },
    {
      "cell_type": "code",
      "metadata": {
        "colab": {
          "base_uri": "https://localhost:8080/"
        },
        "id": "8c-kfiXxAv2d",
        "outputId": "ea353249-cee4-4ddb-c23b-d64b88163f99"
      },
      "source": [
        "# Program to find LCM\n",
        "def LCM(x,y):\n",
        "  greater=x if x>y else y\n",
        "  while(True):\n",
        "    if((greater%x==0) and (greater%y==0)):\n",
        "      lcm=greater\n",
        "      break\n",
        "    greater+=1\n",
        "  return lcm\n",
        "print(LCM(6,2))\n",
        "print(LCM(6,9))\n"
      ],
      "execution_count": 4,
      "outputs": [
        {
          "output_type": "stream",
          "text": [
            "6\n",
            "18\n"
          ],
          "name": "stdout"
        }
      ]
    },
    {
      "cell_type": "code",
      "metadata": {
        "colab": {
          "base_uri": "https://localhost:8080/"
        },
        "id": "3u6TZifTBh7N",
        "outputId": "5894e60e-421d-4163-fecf-ee0fcbc9992a"
      },
      "source": [
        "# Program to find Prime Factor\n",
        "def prime_factor(n):\n",
        "  l=[]\n",
        "  for i in range(1,n+1):\n",
        "    if n%i==0:\n",
        "      l.append(i)\n",
        "  print(n,l)\n",
        "prime_factor(12)\n",
        "prime_factor(24)\n",
        "\n",
        "print('-*'*20)\n",
        "\n",
        "n=int(input(\"Enter the range: \"))\n",
        "for i in range(1,n):\n",
        "  prime_factor(i)\n",
        "\n",
        "print('-*'*20)"
      ],
      "execution_count": 40,
      "outputs": [
        {
          "output_type": "stream",
          "text": [
            "12 [1, 2, 3, 4, 6, 12]\n",
            "24 [1, 2, 3, 4, 6, 8, 12, 24]\n",
            "-*-*-*-*-*-*-*-*-*-*-*-*-*-*-*-*-*-*-*-*\n",
            "Enter the range: 30\n",
            "1 [1]\n",
            "2 [1, 2]\n",
            "3 [1, 3]\n",
            "4 [1, 2, 4]\n",
            "5 [1, 5]\n",
            "6 [1, 2, 3, 6]\n",
            "7 [1, 7]\n",
            "8 [1, 2, 4, 8]\n",
            "9 [1, 3, 9]\n",
            "10 [1, 2, 5, 10]\n",
            "11 [1, 11]\n",
            "12 [1, 2, 3, 4, 6, 12]\n",
            "13 [1, 13]\n",
            "14 [1, 2, 7, 14]\n",
            "15 [1, 3, 5, 15]\n",
            "16 [1, 2, 4, 8, 16]\n",
            "17 [1, 17]\n",
            "18 [1, 2, 3, 6, 9, 18]\n",
            "19 [1, 19]\n",
            "20 [1, 2, 4, 5, 10, 20]\n",
            "21 [1, 3, 7, 21]\n",
            "22 [1, 2, 11, 22]\n",
            "23 [1, 23]\n",
            "24 [1, 2, 3, 4, 6, 8, 12, 24]\n",
            "25 [1, 5, 25]\n",
            "26 [1, 2, 13, 26]\n",
            "27 [1, 3, 9, 27]\n",
            "28 [1, 2, 4, 7, 14, 28]\n",
            "29 [1, 29]\n",
            "-*-*-*-*-*-*-*-*-*-*-*-*-*-*-*-*-*-*-*-*\n"
          ],
          "name": "stdout"
        }
      ]
    },
    {
      "cell_type": "code",
      "metadata": {
        "colab": {
          "base_uri": "https://localhost:8080/"
        },
        "id": "nZPJZu-rCIqw",
        "outputId": "a52df370-3925-4aa0-a948-f8dd31ad1396"
      },
      "source": [
        "# Program to find Prime_number\n",
        "\n",
        "def prime_number(n):\n",
        "  if n>1:\n",
        "    for i in range(2,n):\n",
        "      if n%i==0:\n",
        "        return 'Not Prime'\n",
        "    else:\n",
        "      return n\n",
        "  else:\n",
        "    return 'not Prime'\n",
        "print(prime_number(34))\n",
        "print(prime_number(13))\n",
        "print(prime_number(1))\n",
        "\n",
        "print('-*'*20)\n",
        "\n",
        "# to find in specified range\n",
        "\n",
        "n=int(input(\"Enter the range: \"))\n",
        "for i in range(1,n):\n",
        "  x=prime_number(i)\n",
        "  if x!='Not Prime':\n",
        "    print(x)\n",
        "\n",
        "print('-*'*20)\n",
        "\n",
        "# to find nth  num\n",
        "n=int(input(\"Enter the range: \"))\n",
        "l=[]\n",
        "for i in range(1,n):\n",
        "  x=prime_number(i)\n",
        "  if x!=None:\n",
        "    l.append(x)\n",
        "if len(l)==1:\n",
        "  y='st'\n",
        "if len(l)==2:\n",
        "  y='nd'\n",
        "elif len(l)==3:\n",
        "  y='rd'\n",
        "else:\n",
        "  y='th'\n",
        "\n",
        "print(str(len(l))+y+'prime_number'+': {} '.format(l[-1]))\n"
      ],
      "execution_count": 41,
      "outputs": [
        {
          "output_type": "stream",
          "text": [
            "Not Prime\n",
            "13\n",
            "not Prime\n",
            "-*-*-*-*-*-*-*-*-*-*-*-*-*-*-*-*-*-*-*-*\n",
            "Enter the range: 30\n",
            "not Prime\n",
            "2\n",
            "3\n",
            "5\n",
            "7\n",
            "11\n",
            "13\n",
            "17\n",
            "19\n",
            "23\n",
            "29\n",
            "-*-*-*-*-*-*-*-*-*-*-*-*-*-*-*-*-*-*-*-*\n",
            "Enter the range: 30\n",
            "29\n"
          ],
          "name": "stdout"
        }
      ]
    },
    {
      "cell_type": "code",
      "metadata": {
        "colab": {
          "base_uri": "https://localhost:8080/"
        },
        "id": "GBRBFBY8Di4a",
        "outputId": "dbce16d9-11fa-4ff5-e368-be7d038f1897"
      },
      "source": [
        "# Program to find Perfect Square\n",
        "\n",
        "def perfect_number(n):\n",
        "  x=int(n**0.5)\n",
        "  if x*x==n:\n",
        "    return n\n",
        "\n",
        "print('-*'*20)\n",
        "\n",
        "# to find in specified range\n",
        "n=int(input(\"Enter the range: \"))\n",
        "for i in range(1,n):\n",
        "  x=perfect_number(i)\n",
        "  if x!=None:\n",
        "    print(x)\n",
        "\n",
        "print('-*'*20)\n",
        "\n",
        "# to find nth  num\n",
        "n=int(input(\"Enter the range: \"))\n",
        "l=[]\n",
        "for i in range(1,n):\n",
        "  x=perfect_number(i)\n",
        "  if x!=None:\n",
        "    l.append(x)\n",
        "if len(l)==1:\n",
        "  y='st'\n",
        "if len(l)==2:\n",
        "  y='nd'\n",
        "elif len(l)==3:\n",
        "  y='rd'\n",
        "else:\n",
        "  y='th'\n",
        "\n",
        "print(str(len(l))+y+'perfect_number'+': {} '.format(l[-1]))\n"
      ],
      "execution_count": 39,
      "outputs": [
        {
          "output_type": "stream",
          "text": [
            "-*-*-*-*-*-*-*-*-*-*-*-*-*-*-*-*-*-*-*-*\n",
            "Enter the range: 30\n",
            "1\n",
            "4\n",
            "9\n",
            "16\n",
            "25\n",
            "-*-*-*-*-*-*-*-*-*-*-*-*-*-*-*-*-*-*-*-*\n",
            "Enter the range: 30\n",
            "25\n"
          ],
          "name": "stdout"
        }
      ]
    },
    {
      "cell_type": "code",
      "metadata": {
        "colab": {
          "base_uri": "https://localhost:8080/"
        },
        "id": "eLXiLXilGUkY",
        "outputId": "2ada7f7b-4f4f-4ccb-d1c8-96ddc3743e04"
      },
      "source": [
        "# Program to find Amstrong number\n",
        "\n",
        "def amstrong_number(n):\n",
        "  out=0\n",
        "  temp=n\n",
        "  while temp!=0:\n",
        "    last=temp%10\n",
        "    temp//=10\n",
        "    out+=last**3\n",
        "  if out==n:\n",
        "    return out\n",
        "\n",
        "print('-*'*20)\n",
        "\n",
        "# to find in specified range\n",
        "n=int(input(\"Enter the range: \"))\n",
        "for i in range(1,n):\n",
        "  x=amstrong_number(i)\n",
        "  if x!=None:\n",
        "    print(x)\n",
        "\n",
        "print('-*'*20)\n",
        "\n",
        "# to find nth  num\n",
        "n=int(input(\"Enter the range: \"))\n",
        "l=[]\n",
        "for i in range(1,n):\n",
        "  x=amstrong_number(i)\n",
        "  if x!=None:\n",
        "    l.append(x)\n",
        "if len(l)==1:\n",
        "  y='st'\n",
        "if len(l)==2:\n",
        "  y='nd'\n",
        "elif len(l)==3:\n",
        "  y='rd'\n",
        "else:\n",
        "  y='th'\n",
        "\n",
        "print(str(len(l))+y+'amstrong_number'+': {} '.format(l[-1]))"
      ],
      "execution_count": 45,
      "outputs": [
        {
          "output_type": "stream",
          "text": [
            "-*-*-*-*-*-*-*-*-*-*-*-*-*-*-*-*-*-*-*-*\n",
            "Enter the range: 200\n",
            "1\n",
            "153\n",
            "-*-*-*-*-*-*-*-*-*-*-*-*-*-*-*-*-*-*-*-*\n",
            "Enter the range: 200\n",
            "153\n"
          ],
          "name": "stdout"
        }
      ]
    },
    {
      "cell_type": "code",
      "metadata": {
        "colab": {
          "base_uri": "https://localhost:8080/"
        },
        "id": "m3LkHqInPnTg",
        "outputId": "12423508-2012-43b0-cfe1-841e42e7fc5b"
      },
      "source": [
        "# Program to find strong number \n",
        "def fact(n):\n",
        "  fact=1\n",
        "  while n>0:\n",
        "    fact*=n\n",
        "    n-=1\n",
        "  return fact\n",
        "\n",
        "def strong_number(n):\n",
        "  out=0\n",
        "  temp=n\n",
        "  while temp!=0:\n",
        "    last=temp%10\n",
        "    temp//=10\n",
        "    out+=fact(last)\n",
        "  if out==n:\n",
        "    return out\n",
        "\n",
        "print('-*'*20)\n",
        "\n",
        "# to find in specified range\n",
        "n=int(input(\"Enter the range: \"))\n",
        "for i in range(1,n):\n",
        "  x=strong_number(i)\n",
        "  if x!=None:\n",
        "    print(x)\n",
        "\n",
        "print('-*'*20)\n",
        "\n",
        "# to find nth  num\n",
        "n=int(input(\"Enter the range: \"))\n",
        "l=[]\n",
        "for i in range(1,n):\n",
        "  x=strong_number(i)\n",
        "  if x!=None:\n",
        "    l.append(x)\n",
        "if len(l)==1:\n",
        "  y='st'\n",
        "if len(l)==2:\n",
        "  y='nd'\n",
        "elif len(l)==3:\n",
        "  y='rd'\n",
        "else:\n",
        "  y='th'\n",
        "\n",
        "print(str(len(l))+y+'strong_number'+': {} '.format(l[-1]))"
      ],
      "execution_count": 52,
      "outputs": [
        {
          "output_type": "stream",
          "text": [
            "-*-*-*-*-*-*-*-*-*-*-*-*-*-*-*-*-*-*-*-*\n",
            "Enter the range: 100000\n",
            "1\n",
            "2\n",
            "145\n",
            "40585\n",
            "-*-*-*-*-*-*-*-*-*-*-*-*-*-*-*-*-*-*-*-*\n",
            "Enter the range: 1000\n",
            "145\n"
          ],
          "name": "stdout"
        }
      ]
    },
    {
      "cell_type": "code",
      "metadata": {
        "colab": {
          "base_uri": "https://localhost:8080/"
        },
        "id": "D8kOFAu2Um_N",
        "outputId": "1d089868-913b-404d-a0a3-23932e1f498b"
      },
      "source": [
        "# Harshad Numbers\n",
        "\n",
        "def Harshad_number(n):\n",
        "  out=0\n",
        "  temp=n\n",
        "  while temp!=0:\n",
        "    last=temp%10\n",
        "    temp//=10\n",
        "    out+=last\n",
        "  if n%out==0:\n",
        "    return n\n",
        "\n",
        "print('-*'*20)\n",
        "\n",
        "# to find in specified range\n",
        "n=int(input(\"Enter the range: \"))\n",
        "for i in range(1,n):\n",
        "  x=Harshad_number(i)\n",
        "  if x!=None:\n",
        "    print(x)\n",
        "\n",
        "print('-*'*20)\n",
        "\n",
        "# to find nth  num\n",
        "n=int(input(\"Enter the range: \"))\n",
        "l=[]\n",
        "for i in range(1,n):\n",
        "  x=Harshad_number(i)\n",
        "  if x!=None:\n",
        "    l.append(x)\n",
        "if len(l)==1:\n",
        "  y='st'\n",
        "if len(l)==2:\n",
        "  y='nd'\n",
        "elif len(l)==3:\n",
        "  y='rd'\n",
        "else:\n",
        "  y='th'\n",
        "\n",
        "print(str(len(l))+y+'Harshad_number'+': {} '.format(l[-1]))"
      ],
      "execution_count": 58,
      "outputs": [
        {
          "output_type": "stream",
          "text": [
            "-*-*-*-*-*-*-*-*-*-*-*-*-*-*-*-*-*-*-*-*\n",
            "Enter the range: 20\n",
            "1\n",
            "2\n",
            "3\n",
            "4\n",
            "5\n",
            "6\n",
            "7\n",
            "8\n",
            "9\n",
            "10\n",
            "12\n",
            "18\n",
            "-*-*-*-*-*-*-*-*-*-*-*-*-*-*-*-*-*-*-*-*\n",
            "Enter the range: 20\n",
            "18\n"
          ],
          "name": "stdout"
        }
      ]
    },
    {
      "cell_type": "code",
      "metadata": {
        "colab": {
          "base_uri": "https://localhost:8080/"
        },
        "id": "C8IyYihOYG92",
        "outputId": "5537731e-4cac-45d3-967e-361c843b529c"
      },
      "source": [
        "# Abundant Number\n",
        "def prime_factor(n):\n",
        "  l=[]\n",
        "  for i in range(1,n):\n",
        "    if n%i==0:\n",
        "      l.append(i)\n",
        "  return sum(l)\n",
        "\n",
        "def abundant_number(n):\n",
        "  x=prime_factor(n)\n",
        "  if n<x:\n",
        "    return n\n",
        "\n",
        "# to find in specified range\n",
        "n=int(input(\"Enter the range: \"))\n",
        "for i in range(1,n):\n",
        "  x=abundant_number(i)\n",
        "  if x!=None:\n",
        "    print(x)\n",
        "\n",
        "print('-*'*20)\n",
        "\n",
        "# to find nth  num\n",
        "n=int(input(\"Enter the range: \"))\n",
        "l=[]\n",
        "for i in range(1,n):\n",
        "  x=abundant_number(i)\n",
        "  if x!=None:\n",
        "    l.append(x)\n",
        "if len(l)==1:\n",
        "  y='st'\n",
        "if len(l)==2:\n",
        "  y='nd'\n",
        "elif len(l)==3:\n",
        "  y='rd'\n",
        "else:\n",
        "  y='th'\n",
        "\n",
        "print(str(len(l))+y+'abundant_number'+': {} '.format(l[-1]))"
      ],
      "execution_count": 65,
      "outputs": [
        {
          "output_type": "stream",
          "text": [
            "Enter the range: 30\n",
            "12\n",
            "18\n",
            "20\n",
            "24\n",
            "-*-*-*-*-*-*-*-*-*-*-*-*-*-*-*-*-*-*-*-*\n",
            "Enter the range: 30\n",
            "4th: 24 \n"
          ],
          "name": "stdout"
        }
      ]
    },
    {
      "cell_type": "code",
      "metadata": {
        "colab": {
          "base_uri": "https://localhost:8080/"
        },
        "id": "KwjMzMF6zC92",
        "outputId": "b5edc0bf-a995-484d-e5f8-79f4576c209e"
      },
      "source": [
        "# Generic Root\n",
        "\n",
        "def sum_digits(n):\n",
        "  c=0\n",
        "  while n!=0:\n",
        "    last=n%10\n",
        "    c+=last\n",
        "    n=n//10\n",
        "  return c\n",
        "\n",
        "def generic_root(n):\n",
        "  x=sum_digits(n)\n",
        "  while (len(str(x))!=1):\n",
        "    x=sum_digits(x)\n",
        "  return x\n",
        "\n",
        "print(generic_root(12345))\n",
        "print(generic_root(15937))\n",
        "print(generic_root(9999))\n"
      ],
      "execution_count": 67,
      "outputs": [
        {
          "output_type": "stream",
          "text": [
            "6\n",
            "7\n",
            "9\n"
          ],
          "name": "stdout"
        }
      ]
    },
    {
      "cell_type": "code",
      "metadata": {
        "colab": {
          "base_uri": "https://localhost:8080/"
        },
        "id": "bd7Mxftc32Wu",
        "outputId": "24cf463a-cf4f-44f5-cac3-c79a0a342cd7"
      },
      "source": [
        "# Automorphic number\n",
        "\n",
        "def sqr(n):\n",
        "  return n*n\n",
        "\n",
        "def automorphic_number(n):\n",
        "  x=sqr(n)\n",
        "  temp=x\n",
        "  out=''\n",
        "  for i in range(len(str(n))):\n",
        "    last=temp%10\n",
        "    out=str(last)+out\n",
        "    temp//=10\n",
        "  if int(out)==n:\n",
        "    return n\n",
        "\n",
        "\n",
        "# to find in specified range\n",
        "n=int(input(\"Enter the range: \"))\n",
        "for i in range(1,n):\n",
        "  x=automorphic_number(i)\n",
        "  if x!=None:\n",
        "    print(x)\n",
        "\n",
        "print('-*'*20)   \n"
      ],
      "execution_count": 74,
      "outputs": [
        {
          "output_type": "stream",
          "text": [
            "Enter the range: 500\n",
            "1\n",
            "5\n",
            "6\n",
            "25\n",
            "76\n",
            "376\n",
            "-*-*-*-*-*-*-*-*-*-*-*-*-*-*-*-*-*-*-*-*\n"
          ],
          "name": "stdout"
        }
      ]
    },
    {
      "cell_type": "code",
      "metadata": {
        "id": "MOjrGSbD6ftS"
      },
      "source": [
        ""
      ],
      "execution_count": null,
      "outputs": []
    }
  ]
}